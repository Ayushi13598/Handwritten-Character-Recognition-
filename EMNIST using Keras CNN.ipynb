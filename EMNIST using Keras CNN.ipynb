{
 "cells": [
  {
   "cell_type": "code",
   "execution_count": 7,
   "metadata": {},
   "outputs": [
    {
     "name": "stderr",
     "output_type": "stream",
     "text": [
      "Using TensorFlow backend.\n"
     ]
    }
   ],
   "source": [
    "# Import modules\n",
    "\n",
    "import numpy as np\n",
    "import pandas as pd\n",
    "import matplotlib.pyplot as plt\n",
    "\n",
    "from sklearn.model_selection import train_test_split\n",
    "import cv2\n",
    "\n",
    "#keras\n",
    "from keras.models import Sequential\n",
    "from keras.layers import Dense, Dropout, Flatten\n",
    "from keras.layers import Conv2D, MaxPooling2D\n",
    "from keras.utils import np_utils\n",
    "import sklearn.metrics as metrics"
   ]
  },
  {
   "cell_type": "code",
   "execution_count": 11,
   "metadata": {},
   "outputs": [
    {
     "name": "stdout",
     "output_type": "stream",
     "text": [
      "Train: (112799, 785), Test: (18799, 785), Map: (47,)\n"
     ]
    }
   ],
   "source": [
    "train = pd.read_csv(\"C:/Users/Ayushi Agarwal/Desktop/Projects/character recognition/input/emnist/emnist-balanced-train.csv\",delimiter = ',')\n",
    "test = pd.read_csv(\"C:/Users/Ayushi Agarwal/Desktop/Projects/character recognition/input/emnist/emnist-balanced-test.csv\", delimiter = ',')\n",
    "mapp = pd.read_csv(\"C:/Users/Ayushi Agarwal/Desktop/Projects/character recognition/input/emnist/emnist-balanced-mapping.txt\", delimiter = ' ', \\\n",
    "                   index_col=0, header=None, squeeze=True)\n",
    "print(\"Train: %s, Test: %s, Map: %s\" %(train.shape, test.shape, mapp.shape))"
   ]
  },
  {
   "cell_type": "code",
   "execution_count": 12,
   "metadata": {},
   "outputs": [],
   "source": [
    "# Constants\n",
    "HEIGHT = 28\n",
    "WIDTH = 28"
   ]
  },
  {
   "cell_type": "code",
   "execution_count": 13,
   "metadata": {},
   "outputs": [],
   "source": [
    "# Split x and y\n",
    "train_x = train.iloc[:,1:]\n",
    "train_y = train.iloc[:,0]\n",
    "del train\n",
    "\n",
    "test_x = test.iloc[:,1:]\n",
    "test_y = test.iloc[:,0]\n",
    "del test"
   ]
  },
  {
   "cell_type": "code",
   "execution_count": 14,
   "metadata": {},
   "outputs": [
    {
     "name": "stdout",
     "output_type": "stream",
     "text": [
      "(112799, 784) (112799,) (18799, 784) (18799,)\n"
     ]
    }
   ],
   "source": [
    "print(train_x.shape,train_y.shape,test_x.shape,test_y.shape)"
   ]
  },
  {
   "cell_type": "code",
   "execution_count": 15,
   "metadata": {},
   "outputs": [],
   "source": [
    "def rotate(image):\n",
    "    image = image.reshape([HEIGHT, WIDTH])\n",
    "    image = np.fliplr(image)\n",
    "    image = np.rot90(image)\n",
    "    return image"
   ]
  },
  {
   "cell_type": "code",
   "execution_count": 16,
   "metadata": {},
   "outputs": [
    {
     "name": "stdout",
     "output_type": "stream",
     "text": [
      "train_x: (112799, 28, 28)\n",
      "test_x: (18799, 28, 28)\n"
     ]
    }
   ],
   "source": [
    "# Flip and rotate image\n",
    "train_x = np.asarray(train_x)\n",
    "train_x = np.apply_along_axis(rotate, 1, train_x)\n",
    "print (\"train_x:\",train_x.shape)\n",
    "\n",
    "test_x = np.asarray(test_x)\n",
    "test_x = np.apply_along_axis(rotate, 1, test_x)\n",
    "print (\"test_x:\",test_x.shape)"
   ]
  },
  {
   "cell_type": "code",
   "execution_count": 17,
   "metadata": {},
   "outputs": [],
   "source": [
    "# Normalise\n",
    "train_x = train_x.astype('float32')\n",
    "train_x /= 255\n",
    "test_x = test_x.astype('float32')\n",
    "test_x /= 255"
   ]
  },
  {
   "cell_type": "code",
   "execution_count": 18,
   "metadata": {},
   "outputs": [
    {
     "data": {
      "image/png": "[encoded data removed]",
      "text/plain": [
       "<Figure size 432x288 with 9 Axes>"
      ]
     },
     "metadata": {
      "needs_background": "light"
     },
     "output_type": "display_data"
    }
   ],
   "source": [
    "# plot image\n",
    "for i in range(100, 109):\n",
    "    plt.subplot(330 + (i+1))\n",
    "    plt.imshow(train_x[i], cmap=plt.get_cmap('gray'))\n",
    "    plt.title(chr(mapp[train_y[i]]))"
   ]
  },
  {
   "cell_type": "code",
   "execution_count": 19,
   "metadata": {},
   "outputs": [],
   "source": [
    "# number of classes\n",
    "num_classes = train_y.nunique()"
   ]
  },
  {
   "cell_type": "code",
   "execution_count": 20,
   "metadata": {},
   "outputs": [
    {
     "name": "stdout",
     "output_type": "stream",
     "text": [
      "train_y:  (112799, 47)\n",
      "test_y:  (18799, 47)\n"
     ]
    }
   ],
   "source": [
    "# One hot encoding\n",
    "train_y = np_utils.to_categorical(train_y, num_classes)\n",
    "test_y = np_utils.to_categorical(test_y, num_classes)\n",
    "print(\"train_y: \", train_y.shape)\n",
    "print(\"test_y: \", test_y.shape)"
   ]
  },
  {
   "cell_type": "code",
   "execution_count": 21,
   "metadata": {},
   "outputs": [],
   "source": [
    "# Reshape image for CNN\n",
    "train_x = train_x.reshape(-1, HEIGHT, WIDTH, 1)\n",
    "test_x = test_x.reshape(-1, HEIGHT, WIDTH, 1)"
   ]
  },
  {
   "cell_type": "code",
   "execution_count": 22,
   "metadata": {},
   "outputs": [],
   "source": [
    "# partition to train and val\n",
    "train_x, val_x, train_y, val_y = train_test_split(train_x, train_y, test_size= 0.10, random_state=7)"
   ]
  },
  {
   "cell_type": "code",
   "execution_count": 24,
   "metadata": {},
   "outputs": [
    {
     "name": "stdout",
     "output_type": "stream",
     "text": [
      "_________________________________________________________________\n",
      "Layer (type)                 Output Shape              Param #   \n",
      "=================================================================\n",
      "conv2d_3 (Conv2D)            (None, 28, 28, 128)       3328      \n",
      "_________________________________________________________________\n",
      "max_pooling2d_3 (MaxPooling2 (None, 14, 14, 128)       0         \n",
      "_________________________________________________________________\n",
      "conv2d_4 (Conv2D)            (None, 14, 14, 64)        73792     \n",
      "_________________________________________________________________\n",
      "max_pooling2d_4 (MaxPooling2 (None, 7, 7, 64)          0         \n",
      "_________________________________________________________________\n",
      "flatten_2 (Flatten)          (None, 3136)              0         \n",
      "_________________________________________________________________\n",
      "dense_3 (Dense)              (None, 128)               401536    \n",
      "_________________________________________________________________\n",
      "dropout_2 (Dropout)          (None, 128)               0         \n",
      "_________________________________________________________________\n",
      "dense_4 (Dense)              (None, 47)                6063      \n",
      "=================================================================\n",
      "Total params: 484,719\n",
      "Trainable params: 484,719\n",
      "Non-trainable params: 0\n",
      "_________________________________________________________________\n"
     ]
    }
   ],
   "source": [
    "# Building model\n",
    "model = Sequential()\n",
    "\n",
    "model.add(Conv2D(filters=128, kernel_size=(5,5), padding = 'same', activation='relu',\\\n",
    "                 input_shape=(HEIGHT, WIDTH,1)))\n",
    "model.add(MaxPooling2D(pool_size=(2,2), strides=(2,2)))\n",
    "model.add(Conv2D(filters=64, kernel_size=(3,3) , padding = 'same', activation='relu'))\n",
    "model.add(MaxPooling2D(pool_size=(2,2)))\n",
    "\n",
    "model.add(Flatten())\n",
    "model.add(Dense(units=128, activation='relu'))\n",
    "model.add(Dropout(.5))\n",
    "model.add(Dense(units=num_classes, activation='softmax'))\n",
    "\n",
    "model.summary()"
   ]
  },
  {
   "cell_type": "code",
   "execution_count": 25,
   "metadata": {},
   "outputs": [],
   "source": [
    "model.compile(loss='categorical_crossentropy', optimizer='adam', metrics=['accuracy'])"
   ]
  },
  {
   "cell_type": "code",
   "execution_count": 26,
   "metadata": {},
   "outputs": [
    {
     "name": "stdout",
     "output_type": "stream",
     "text": [
      "Train on 101519 samples, validate on 11280 samples\n",
      "Epoch 1/10\n",
      "101519/101519 [==============================] - 562s 6ms/step - loss: 1.5465 - acc: 0.5621 - val_loss: 0.5653 - val_acc: 0.8152\n",
      "Epoch 2/10\n",
      "101519/101519 [==============================] - 627s 6ms/step - loss: 0.7519 - acc: 0.7623 - val_loss: 0.4591 - val_acc: 0.8414\n",
      "Epoch 3/10\n",
      "101519/101519 [==============================] - 672s 7ms/step - loss: 0.6198 - acc: 0.7993 - val_loss: 0.4113 - val_acc: 0.8550\n",
      "Epoch 4/10\n",
      "101519/101519 [==============================] - 873s 9ms/step - loss: 0.5533 - acc: 0.8185 - val_loss: 0.3868 - val_acc: 0.8590\n",
      "Epoch 5/10\n",
      "101519/101519 [==============================] - 885s 9ms/step - loss: 0.5091 - acc: 0.8295 - val_loss: 0.3729 - val_acc: 0.8661\n",
      "Epoch 6/10\n",
      "101519/101519 [==============================] - 909s 9ms/step - loss: 0.4780 - acc: 0.8387 - val_loss: 0.3608 - val_acc: 0.8657\n",
      "Epoch 7/10\n",
      "101519/101519 [==============================] - 914s 9ms/step - loss: 0.4531 - acc: 0.8456 - val_loss: 0.3579 - val_acc: 0.8676\n",
      "Epoch 8/10\n",
      "101519/101519 [==============================] - 918s 9ms/step - loss: 0.4334 - acc: 0.8506 - val_loss: 0.3463 - val_acc: 0.8754\n",
      "Epoch 9/10\n",
      "101519/101519 [==============================] - 916s 9ms/step - loss: 0.4156 - acc: 0.8560 - val_loss: 0.3435 - val_acc: 0.8751\n",
      "Epoch 10/10\n",
      "101519/101519 [==============================] - 911s 9ms/step - loss: 0.4001 - acc: 0.8599 - val_loss: 0.3358 - val_acc: 0.8778\n"
     ]
    }
   ],
   "source": [
    "history = model.fit(train_x, train_y, epochs=10, batch_size=512, verbose=1, \\\n",
    "                    validation_data=(val_x, val_y))"
   ]
  },
  {
   "cell_type": "code",
   "execution_count": 27,
   "metadata": {},
   "outputs": [],
   "source": [
    "# plot accuracy and loss\n",
    "def plotgraph(epochs, acc, val_acc):\n",
    "    # Plot training & validation accuracy values\n",
    "    plt.plot(epochs, acc, 'b')\n",
    "    plt.plot(epochs, val_acc, 'r')\n",
    "    plt.title('Model accuracy')\n",
    "    plt.ylabel('Accuracy')\n",
    "    plt.xlabel('Epoch')\n",
    "    plt.legend(['Train', 'Val'], loc='upper left')\n",
    "    plt.show()"
   ]
  },
  {
   "cell_type": "code",
   "execution_count": 28,
   "metadata": {},
   "outputs": [],
   "source": [
    "acc = history.history['acc']\n",
    "val_acc = history.history['val_acc']\n",
    "loss = history.history['loss']\n",
    "val_loss = history.history['val_loss']\n",
    "epochs = range(1,len(acc)+1)"
   ]
  },
  {
   "cell_type": "code",
   "execution_count": 29,
   "metadata": {},
   "outputs": [
    {
     "data": {
      "image/png": "[encoded data removed]",
      "text/plain": [
       "<Figure size 432x288 with 1 Axes>"
      ]
     },
     "metadata": {
      "needs_background": "light"
     },
     "output_type": "display_data"
    }
   ],
   "source": [
    "plotgraph(epochs, acc, val_acc)"
   ]
  },
  {
   "cell_type": "code",
   "execution_count": 30,
   "metadata": {},
   "outputs": [
    {
     "data": {
      "image/png": "[encoded data removed]",
      "text/plain": [
       "<Figure size 432x288 with 1 Axes>"
      ]
     },
     "metadata": {
      "needs_background": "light"
     },
     "output_type": "display_data"
    }
   ],
   "source": [
    "#loss curve\n",
    "plotgraph(epochs, loss, val_loss)"
   ]
  },
  {
   "cell_type": "code",
   "execution_count": 31,
   "metadata": {},
   "outputs": [
    {
     "name": "stdout",
     "output_type": "stream",
     "text": [
      "Test loss: 0.3558610190536197\n",
      "Test accuracy: 0.8789297303111447\n"
     ]
    }
   ],
   "source": [
    "score = model.evaluate(test_x, test_y, verbose=0)\n",
    "print(\"Test loss:\", score[0])\n",
    "print(\"Test accuracy:\", score[1])"
   ]
  },
  {
   "cell_type": "code",
   "execution_count": 32,
   "metadata": {},
   "outputs": [],
   "source": [
    "y_pred = model.predict(test_x)\n",
    "y_pred = (y_pred > 0.5)"
   ]
  },
  {
   "cell_type": "code",
   "execution_count": 33,
   "metadata": {},
   "outputs": [],
   "source": [
    "cm = metrics.confusion_matrix(test_y.argmax(axis=1), y_pred.argmax(axis=1))"
   ]
  },
  {
   "cell_type": "code",
   "execution_count": 34,
   "metadata": {},
   "outputs": [
    {
     "data": {
      "text/plain": [
       "array([[352,   0,   0, ...,   0,   0,   0],\n",
       "       [172, 163,   0, ...,   0,   0,   0],\n",
       "       [  8,   0, 347, ...,   0,   0,   0],\n",
       "       ...,\n",
       "       [110,   0,   0, ..., 148,   0,   0],\n",
       "       [  5,   0,   0, ...,   0, 373,   1],\n",
       "       [  9,   0,   0, ...,   0,   5, 359]], dtype=int64)"
      ]
     },
     "execution_count": 34,
     "metadata": {},
     "output_type": "execute_result"
    }
   ],
   "source": [
    "cm"
   ]
  },
  {
   "cell_type": "code",
   "execution_count": null,
   "metadata": {},
   "outputs": [],
   "source": []
  }
 ],
 "metadata": {
  "kernelspec": {
   "display_name": "Python 3",
   "language": "python",
   "name": "python3"
  },
  "language_info": {
   "codemirror_mode": {
    "name": "ipython",
    "version": 3
   },
   "file_extension": ".py",
   "mimetype": "text/x-python",
   "name": "python",
   "nbconvert_exporter": "python",
   "pygments_lexer": "ipython3",
   "version": "3.6.8"
  }
 },
 "nbformat": 4,
 "nbformat_minor": 2
}
